{
 "cells": [
  {
   "cell_type": "markdown",
   "metadata": {},
   "source": [
    "# Identifying v1 Contaminant Reads"
   ]
  },
  {
   "cell_type": "code",
   "execution_count": 8,
   "metadata": {},
   "outputs": [],
   "source": [
    "import pandas as pd\n",
    "import numpy as np\n",
    "import matplotlib.pyplot as plt"
   ]
  },
  {
   "cell_type": "markdown",
   "metadata": {},
   "source": [
    "Importing Taxonomy Results"
   ]
  },
  {
   "cell_type": "code",
   "execution_count": 9,
   "metadata": {},
   "outputs": [],
   "source": [
    "header = \"name\tlength\tGC\tN\tbam0\tphylum.t.6%s\tphylum.s.7%s\tphylum.c.8\".split(\"\\t\")\n",
    "inblobfn = '/home/jemimah/analysis/v1/blobplot/v1_blastTop10.blobDB.table.txt'\n",
    "blobdf = pd.read_csv(inblobfn, sep='\\t', header=None, names = header,  comment = '#')"
   ]
  },
  {
   "cell_type": "markdown",
   "metadata": {},
   "source": [
    "Selecting to keep No-hit and Streptophyta Contigs"
   ]
  },
  {
   "cell_type": "code",
   "execution_count": 10,
   "metadata": {},
   "outputs": [],
   "source": [
    "keep_blobdf = blobdf[(blobdf[\"phylum.t.6%s\"] == \"no-hit\") | (blobdf[\"phylum.t.6%s\"] == \"Streptophyta\") ]\n",
    "keep_contigs = list(keep_blobdf[\"name\"])"
   ]
  },
  {
   "cell_type": "markdown",
   "metadata": {},
   "source": [
    "Importing Read Coverage "
   ]
  },
  {
   "cell_type": "code",
   "execution_count": 11,
   "metadata": {},
   "outputs": [],
   "source": [
    "header =\"QNAME    FLAG    RNAME    POS    MAPQ    CIGAR    RNEXT    PNEXT    TLEN    SEQ    QUAL    TAGS\".lower().split(\"    \")\n",
    "#original\n",
    "#insamfn  = '../../analysis/minimap2/20200417/genome.dataset.sam'\n",
    "#but I deleted it so...\n",
    "#insamfn = '/home/jemimah/analysis/v1/coverage/20200427_v1_unscripted/genome.dataset.sam'\n",
    "\n",
    "samdf = pd.read_csv(insamfn, sep='\\t', header=None, names = header, comment= \"@\", skiprows=1)"
   ]
  },
  {
   "cell_type": "code",
   "execution_count": 12,
   "metadata": {
    "scrolled": true
   },
   "outputs": [
    {
     "data": {
      "text/html": [
       "<div>\n",
       "<style scoped>\n",
       "    .dataframe tbody tr th:only-of-type {\n",
       "        vertical-align: middle;\n",
       "    }\n",
       "\n",
       "    .dataframe tbody tr th {\n",
       "        vertical-align: top;\n",
       "    }\n",
       "\n",
       "    .dataframe thead th {\n",
       "        text-align: right;\n",
       "    }\n",
       "</style>\n",
       "<table border=\"1\" class=\"dataframe\">\n",
       "  <thead>\n",
       "    <tr style=\"text-align: right;\">\n",
       "      <th></th>\n",
       "      <th>qname</th>\n",
       "      <th>flag</th>\n",
       "      <th>rname</th>\n",
       "      <th>pos</th>\n",
       "      <th>mapq</th>\n",
       "      <th>cigar</th>\n",
       "      <th>rnext</th>\n",
       "      <th>pnext</th>\n",
       "      <th>tlen</th>\n",
       "      <th>seq</th>\n",
       "      <th>qual</th>\n",
       "      <th>tags</th>\n",
       "    </tr>\n",
       "  </thead>\n",
       "  <tbody>\n",
       "    <tr>\n",
       "      <th>0</th>\n",
       "      <td>m64049_200202_174858/18286793/ccs</td>\n",
       "      <td>16</td>\n",
       "      <td>tig00000001</td>\n",
       "      <td>1</td>\n",
       "      <td>54</td>\n",
       "      <td>3808M1I728M1I528M1I2436M1I156M1I359M1I1871M1I6...</td>\n",
       "      <td>*</td>\n",
       "      <td>0</td>\n",
       "      <td>0</td>\n",
       "      <td>TTATAATAATAATAATAATAATAATAATAATAATAATAATAATAAT...</td>\n",
       "      <td>)Z&amp;&lt;D0YbVe~Rc~rvz&lt;pzBgp;ic:GT%|~[~~a~uEveHtp&lt;y...</td>\n",
       "      <td>NaN</td>\n",
       "    </tr>\n",
       "    <tr>\n",
       "      <th>1</th>\n",
       "      <td>m64049_200202_174858/126355306/ccs</td>\n",
       "      <td>272</td>\n",
       "      <td>tig00000001</td>\n",
       "      <td>369</td>\n",
       "      <td>0</td>\n",
       "      <td>1300S2365M9D1216M12I120M1D1759M2I674M6D456M22D...</td>\n",
       "      <td>*</td>\n",
       "      <td>0</td>\n",
       "      <td>0</td>\n",
       "      <td>*</td>\n",
       "      <td>*</td>\n",
       "      <td>NM:i:81</td>\n",
       "    </tr>\n",
       "    <tr>\n",
       "      <th>2</th>\n",
       "      <td>m64049_200202_174858/64817426/ccs</td>\n",
       "      <td>272</td>\n",
       "      <td>tig00000001</td>\n",
       "      <td>633</td>\n",
       "      <td>0</td>\n",
       "      <td>211M1I195M1D16M1D74M1D396M1I399M1I146M1I567M1D...</td>\n",
       "      <td>*</td>\n",
       "      <td>0</td>\n",
       "      <td>0</td>\n",
       "      <td>*</td>\n",
       "      <td>*</td>\n",
       "      <td>NM:i:175</td>\n",
       "    </tr>\n",
       "    <tr>\n",
       "      <th>3</th>\n",
       "      <td>m64049_200202_174858/23201346/ccs</td>\n",
       "      <td>16</td>\n",
       "      <td>tig00000001</td>\n",
       "      <td>869</td>\n",
       "      <td>26</td>\n",
       "      <td>3090M1D488M1I1391M1D3023M1D2451M1D2065M</td>\n",
       "      <td>*</td>\n",
       "      <td>0</td>\n",
       "      <td>0</td>\n",
       "      <td>GGTTCTTTGCCCTCGGCCTGCGTCCCTGCATTCATCGGCGCGATCT...</td>\n",
       "      <td>~~~~~~~~~~~o~~~~~~~~~~~~~&lt;~~~~~~~~~~~~~~~~~~~~...</td>\n",
       "      <td>NaN</td>\n",
       "    </tr>\n",
       "    <tr>\n",
       "      <th>4</th>\n",
       "      <td>m64049_200202_174858/46990495/ccs</td>\n",
       "      <td>0</td>\n",
       "      <td>tig00000001</td>\n",
       "      <td>951</td>\n",
       "      <td>26</td>\n",
       "      <td>112M1I2896M1I1163M1I1391M1I2531M1I607M1D750M1D...</td>\n",
       "      <td>*</td>\n",
       "      <td>0</td>\n",
       "      <td>0</td>\n",
       "      <td>ATTAGCGTCTGGATAGCTCTCTTGAGTTGGTAACAATCTTCTGTGG...</td>\n",
       "      <td>~h~{vy~~~~h~s~~~|~s~]a~~~~X~k~~j~~~~~~i~~~~~{~...</td>\n",
       "      <td>NaN</td>\n",
       "    </tr>\n",
       "  </tbody>\n",
       "</table>\n",
       "</div>"
      ],
      "text/plain": [
       "                                qname  flag        rname  pos  mapq  \\\n",
       "0   m64049_200202_174858/18286793/ccs    16  tig00000001    1    54   \n",
       "1  m64049_200202_174858/126355306/ccs   272  tig00000001  369     0   \n",
       "2   m64049_200202_174858/64817426/ccs   272  tig00000001  633     0   \n",
       "3   m64049_200202_174858/23201346/ccs    16  tig00000001  869    26   \n",
       "4   m64049_200202_174858/46990495/ccs     0  tig00000001  951    26   \n",
       "\n",
       "                                               cigar rnext  pnext  tlen  \\\n",
       "0  3808M1I728M1I528M1I2436M1I156M1I359M1I1871M1I6...     *      0     0   \n",
       "1  1300S2365M9D1216M12I120M1D1759M2I674M6D456M22D...     *      0     0   \n",
       "2  211M1I195M1D16M1D74M1D396M1I399M1I146M1I567M1D...     *      0     0   \n",
       "3            3090M1D488M1I1391M1D3023M1D2451M1D2065M     *      0     0   \n",
       "4  112M1I2896M1I1163M1I1391M1I2531M1I607M1D750M1D...     *      0     0   \n",
       "\n",
       "                                                 seq  \\\n",
       "0  TTATAATAATAATAATAATAATAATAATAATAATAATAATAATAAT...   \n",
       "1                                                  *   \n",
       "2                                                  *   \n",
       "3  GGTTCTTTGCCCTCGGCCTGCGTCCCTGCATTCATCGGCGCGATCT...   \n",
       "4  ATTAGCGTCTGGATAGCTCTCTTGAGTTGGTAACAATCTTCTGTGG...   \n",
       "\n",
       "                                                qual      tags  \n",
       "0  )Z&<D0YbVe~Rc~rvz<pzBgp;ic:GT%|~[~~a~uEveHtp<y...       NaN  \n",
       "1                                                  *   NM:i:81  \n",
       "2                                                  *  NM:i:175  \n",
       "3  ~~~~~~~~~~~o~~~~~~~~~~~~~<~~~~~~~~~~~~~~~~~~~~...       NaN  \n",
       "4  ~h~{vy~~~~h~s~~~|~s~]a~~~~X~k~~j~~~~~~i~~~~~{~...       NaN  "
      ]
     },
     "execution_count": 12,
     "metadata": {},
     "output_type": "execute_result"
    }
   ],
   "source": [
    "samdf.head()"
   ]
  },
  {
   "cell_type": "code",
   "execution_count": 13,
   "metadata": {},
   "outputs": [
    {
     "data": {
      "text/plain": [
       "7877193"
      ]
     },
     "execution_count": 13,
     "metadata": {},
     "output_type": "execute_result"
    }
   ],
   "source": [
    "len(samdf)"
   ]
  },
  {
   "cell_type": "code",
   "execution_count": 14,
   "metadata": {
    "scrolled": true
   },
   "outputs": [
    {
     "data": {
      "text/plain": [
       "7715973"
      ]
     },
     "execution_count": 14,
     "metadata": {},
     "output_type": "execute_result"
    }
   ],
   "source": [
    "read_names = samdf[samdf[\"rname\"].isin(keep_contigs)][\"qname\"]\n",
    "len(read_names)"
   ]
  },
  {
   "cell_type": "code",
   "execution_count": 15,
   "metadata": {},
   "outputs": [
    {
     "data": {
      "text/plain": [
       "0     m64049_200202_174858/18286793/ccs\n",
       "1    m64049_200202_174858/126355306/ccs\n",
       "2     m64049_200202_174858/64817426/ccs\n",
       "3     m64049_200202_174858/23201346/ccs\n",
       "4     m64049_200202_174858/46990495/ccs\n",
       "Name: qname, dtype: object"
      ]
     },
     "execution_count": 15,
     "metadata": {},
     "output_type": "execute_result"
    }
   ],
   "source": [
    "read_names.head()"
   ]
  },
  {
   "cell_type": "markdown",
   "metadata": {},
   "source": [
    "Saving a list of reads corresponding to the desired contigs"
   ]
  },
  {
   "cell_type": "code",
   "execution_count": 16,
   "metadata": {},
   "outputs": [],
   "source": [
    "outpath = \"readnames.list\"\n",
    "read_names.to_csv(outpath, sep='\\n', header = False, index = False)"
   ]
  },
  {
   "cell_type": "code",
   "execution_count": 17,
   "metadata": {},
   "outputs": [],
   "source": [
    "!sort readnames.list | uniq > readnames_uniq.list"
   ]
  }
 ],
 "metadata": {
  "kernelspec": {
   "display_name": "Python 3",
   "language": "python",
   "name": "python3"
  },
  "language_info": {
   "codemirror_mode": {
    "name": "ipython",
    "version": 3
   },
   "file_extension": ".py",
   "mimetype": "text/x-python",
   "name": "python",
   "nbconvert_exporter": "python",
   "pygments_lexer": "ipython3",
   "version": "3.8.1"
  }
 },
 "nbformat": 4,
 "nbformat_minor": 4
}
