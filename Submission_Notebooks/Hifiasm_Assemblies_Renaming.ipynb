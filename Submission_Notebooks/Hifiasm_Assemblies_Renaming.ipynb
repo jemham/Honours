{
 "cells": [
  {
   "cell_type": "markdown",
   "metadata": {},
   "source": [
    "# Hifiasm Assemblies"
   ]
  },
  {
   "cell_type": "code",
   "execution_count": 1,
   "metadata": {},
   "outputs": [],
   "source": [
    "%matplotlib inline"
   ]
  },
  {
   "cell_type": "code",
   "execution_count": 2,
   "metadata": {},
   "outputs": [],
   "source": [
    "import os\n",
    "import matplotlib.pyplot as plt\n",
    "import pandas as pd\n",
    "from Bio import SeqIO"
   ]
  },
  {
   "cell_type": "markdown",
   "metadata": {},
   "source": [
    "## Renaming reads"
   ]
  },
  {
   "cell_type": "markdown",
   "metadata": {},
   "source": [
    "### v2 = Hifiasm assembly w origonal reads"
   ]
  },
  {
   "cell_type": "markdown",
   "metadata": {},
   "source": [
    "primary assembly"
   ]
  },
  {
   "cell_type": "code",
   "execution_count": 23,
   "metadata": {},
   "outputs": [],
   "source": [
    "filepath = '/home/jemimah/analysis/hifiasm/20200512_run1/fasta_outputs/Walli.v2.p_ctg.fa'"
   ]
  },
  {
   "cell_type": "code",
   "execution_count": 26,
   "metadata": {},
   "outputs": [
    {
     "name": "stdout",
     "output_type": "stream",
     "text": [
      "5393\n",
      "5393\n",
      "ID: p_ctg000001\n",
      "Name: p_ctg000001\n",
      "Description: p_ctg000001\n",
      "Number of features: 0\n",
      "Seq('ACCTCATCCTTGCTATACCATCATCAACCCCCCAAAAACGCTCCAGTAGTGGAA...ACG', SingleLetterAlphabet())\n"
     ]
    }
   ],
   "source": [
    "v2_p_ctg = []\n",
    "for seq in SeqIO.parse(filepath, 'fasta'):\n",
    "    v2_p_ctg.append(seq)\n",
    "\n",
    "print(len(v2_p_ctg))\n",
    "    \n",
    "for record in v2_p_ctg:\n",
    "    new_id = \"p_ctg\" + record.id[3:-1]\n",
    "    record.id = new_id\n",
    "    record.name = new_id\n",
    "    record.description = new_id\n",
    "\n",
    "print(len(v2_p_ctg))\n",
    "print(v2_p_ctg[0])\n"
   ]
  },
  {
   "cell_type": "code",
   "execution_count": 25,
   "metadata": {},
   "outputs": [
    {
     "data": {
      "text/plain": [
       "5393"
      ]
     },
     "execution_count": 25,
     "metadata": {},
     "output_type": "execute_result"
    }
   ],
   "source": [
    "outpath = '/home/jemimah/analysis/hifiasm/20200512_run1/fasta_outputs/Walli.v2.p_ctg.renamed.fa'\n",
    "SeqIO.write(v2_p_ctg, outpath, \"fasta\")"
   ]
  },
  {
   "cell_type": "markdown",
   "metadata": {},
   "source": [
    "alternate assembly"
   ]
  },
  {
   "cell_type": "code",
   "execution_count": 29,
   "metadata": {},
   "outputs": [],
   "source": [
    "filepath = '/home/jemimah/analysis/hifiasm/20200512_run1/fasta_outputs/Walli.v2.a_ctg.fa'"
   ]
  },
  {
   "cell_type": "code",
   "execution_count": 30,
   "metadata": {},
   "outputs": [
    {
     "name": "stdout",
     "output_type": "stream",
     "text": [
      "6668\n",
      "6668\n",
      "ID: a_ctg000001\n",
      "Name: a_ctg000001\n",
      "Description: a_ctg000001\n",
      "Number of features: 0\n",
      "Seq('CTGTGTTCATATTATGATAGTTTATATGGAACTATCATACTGTGATAGTTCCAT...TAC', SingleLetterAlphabet())\n"
     ]
    }
   ],
   "source": [
    "v2_a_ctg = []\n",
    "for seq in SeqIO.parse(filepath, 'fasta'):\n",
    "    v2_a_ctg.append(seq)\n",
    "\n",
    "print(len(v2_a_ctg))\n",
    "    \n",
    "for record in v2_a_ctg:\n",
    "    new_id = \"a_ctg\" + record.id[3:-1]\n",
    "    record.id = new_id\n",
    "    record.name = new_id\n",
    "    record.description = new_id\n",
    "\n",
    "print(len(v2_a_ctg))\n",
    "print(v2_a_ctg[0])\n"
   ]
  },
  {
   "cell_type": "code",
   "execution_count": 31,
   "metadata": {},
   "outputs": [
    {
     "data": {
      "text/plain": [
       "6668"
      ]
     },
     "execution_count": 31,
     "metadata": {},
     "output_type": "execute_result"
    }
   ],
   "source": [
    "outpath = '/home/jemimah/analysis/hifiasm/20200512_run1/fasta_outputs/Walli.v2.a_ctg.renamed.fa'\n",
    "SeqIO.write(v2_a_ctg, outpath, \"fasta\")"
   ]
  },
  {
   "cell_type": "markdown",
   "metadata": {},
   "source": [
    "### v4 = Hifiasm assembly w reduced reads"
   ]
  },
  {
   "cell_type": "markdown",
   "metadata": {},
   "source": [
    "reads are the same subset as v3, meaning they were reduced based on the blast/blobplot output of a canu assembly"
   ]
  },
  {
   "cell_type": "markdown",
   "metadata": {},
   "source": [
    "Primary assembly"
   ]
  },
  {
   "cell_type": "code",
   "execution_count": 32,
   "metadata": {},
   "outputs": [],
   "source": [
    "v4_p_filepath = '/home/jemimah/analysis/hifiasm/20200610_run2/fasta_outputs/Walli.v4.p_ctg.fa'"
   ]
  },
  {
   "cell_type": "code",
   "execution_count": 33,
   "metadata": {
    "scrolled": true
   },
   "outputs": [
    {
     "name": "stdout",
     "output_type": "stream",
     "text": [
      "2858\n",
      "2858\n",
      "ID: p_ctg000001\n",
      "Name: p_ctg000001\n",
      "Description: p_ctg000001\n",
      "Number of features: 0\n",
      "Seq('ACCTCATCCTTGCTATACCATCATCAACCCCCCAAAAACGCTCCAGTAGTGGAA...ACG', SingleLetterAlphabet())\n"
     ]
    }
   ],
   "source": [
    "v4_p_ctg = []\n",
    "for seq in SeqIO.parse(v4_p_filepath, 'fasta'):\n",
    "    v4_p_ctg.append(seq)\n",
    "\n",
    "print(len(v4_p_ctg))\n",
    "    \n",
    "for record in v4_p_ctg:\n",
    "    new_id = \"p_ctg\" + record.id[3:-1]\n",
    "    record.id = new_id\n",
    "    record.name = new_id\n",
    "    record.description = new_id\n",
    "\n",
    "print(len(v4_p_ctg))\n",
    "print(v4_p_ctg[0])\n"
   ]
  },
  {
   "cell_type": "code",
   "execution_count": 34,
   "metadata": {},
   "outputs": [
    {
     "data": {
      "text/plain": [
       "2858"
      ]
     },
     "execution_count": 34,
     "metadata": {},
     "output_type": "execute_result"
    }
   ],
   "source": [
    "outpath = '/home/jemimah/analysis/hifiasm/20200610_run2/fasta_outputs/Walli.v4.p_ctg.renamed.fa'\n",
    "SeqIO.write(v4_p_ctg, outpath, \"fasta\")"
   ]
  },
  {
   "cell_type": "markdown",
   "metadata": {},
   "source": [
    "Alternate assembly"
   ]
  },
  {
   "cell_type": "code",
   "execution_count": 35,
   "metadata": {},
   "outputs": [],
   "source": [
    "v4_a_filepath = '/home/jemimah/analysis/hifiasm/20200610_run2/fasta_outputs/Walli.v4.a_ctg.fa'"
   ]
  },
  {
   "cell_type": "code",
   "execution_count": 36,
   "metadata": {},
   "outputs": [
    {
     "name": "stdout",
     "output_type": "stream",
     "text": [
      "6589\n",
      "6589\n",
      "ID: a_ctg000001\n",
      "Name: a_ctg000001\n",
      "Description: a_ctg000001\n",
      "Number of features: 0\n",
      "Seq('CTGTGTTCATATTATGATAGTTTATATGGAACTATCATACTGTGATAGTTCCAT...TAC', SingleLetterAlphabet())\n"
     ]
    }
   ],
   "source": [
    "v4_a_ctg = []\n",
    "for seq in SeqIO.parse(v4_a_filepath, 'fasta'):\n",
    "    v4_a_ctg.append(seq)\n",
    "\n",
    "print(len(v4_a_ctg))\n",
    "    \n",
    "for record in v4_a_ctg:\n",
    "    new_id = \"a_ctg\" + record.id[3:-1]\n",
    "    record.id = new_id\n",
    "    record.name = new_id\n",
    "    record.description = new_id\n",
    "\n",
    "print(len(v4_a_ctg))\n",
    "print(v4_a_ctg[0])\n"
   ]
  },
  {
   "cell_type": "code",
   "execution_count": 37,
   "metadata": {},
   "outputs": [
    {
     "data": {
      "text/plain": [
       "6589"
      ]
     },
     "execution_count": 37,
     "metadata": {},
     "output_type": "execute_result"
    }
   ],
   "source": [
    "outpath = '/home/jemimah/analysis/hifiasm/20200610_run2/fasta_outputs/Walli.v4.a_ctg.renamed.fa'\n",
    "SeqIO.write(v4_a_ctg, outpath, \"fasta\")"
   ]
  }
 ],
 "metadata": {
  "kernelspec": {
   "display_name": "Python 3",
   "language": "python",
   "name": "python3"
  },
  "language_info": {
   "codemirror_mode": {
    "name": "ipython",
    "version": 3
   },
   "file_extension": ".py",
   "mimetype": "text/x-python",
   "name": "python",
   "nbconvert_exporter": "python",
   "pygments_lexer": "ipython3",
   "version": "3.8.1"
  }
 },
 "nbformat": 4,
 "nbformat_minor": 4
}
